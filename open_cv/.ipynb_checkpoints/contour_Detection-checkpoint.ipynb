{
 "cells": [
  {
   "cell_type": "code",
   "execution_count": 57,
   "metadata": {},
   "outputs": [
    {
     "data": {
      "text/plain": [
       "255"
      ]
     },
     "execution_count": 57,
     "metadata": {},
     "output_type": "execute_result"
    }
   ],
   "source": [
    "import cv2 as cv\n",
    "import numpy as np\n",
    "import matplotlib.pyplot as plt\n",
    "img = cv.imread(\"photos/face.webp\")\n",
    "cat = cv.imread(\"photos/cat.jpeg\")\n",
    "cat_gray = cv.cvtColor(cat,cv.COLOR_BGR2GRAY)\n",
    "blank = np.zeros(cat.shape,dtype = \"uint8\")\n",
    "\n",
    "# cv.imshow(\"Cat Orignal\",cat)\n",
    "cv.imshow(\"Cat\",cat_gray)\n",
    "\n",
    "blur = cv.GaussianBlur(cat,(5,5),cv.BORDER_DEFAULT)\n",
    "cv.imshow(\"Blurred\",blur)\n",
    "# Canny -> edges of image\n",
    "canny = cv.Canny(blur,125,175)\n",
    "cv.imshow(\"Edges\",canny)\n",
    "\n",
    "# find threshold image\n",
    "ret , thres = cv.threshold(cat_gray,120,255,type= cv.THRESH_BINARY )\n",
    "\n",
    "cv.imshow(\"Thresh\",thres)\n",
    "\n",
    "\n",
    "\n",
    "cv.waitKey(0)"
   ]
  },
  {
   "cell_type": "code",
   "execution_count": 38,
   "metadata": {},
   "outputs": [],
   "source": [
    "# draw contours\n",
    "_,contours,hierarchies =cv.findContours(canny,cv.RETR_LIST,cv.CHAIN_APPROX_NONE)\n",
    "cv.drawContours(blank,contours,-1,(0,0,255),1)\n",
    "cv.imshow(\"Drawn Cont\",blank)\n",
    "cv.waitKey(0)\n",
    "cv.destroyAllWindows()"
   ]
  },
  {
   "cell_type": "code",
   "execution_count": 56,
   "metadata": {},
   "outputs": [],
   "source": [
    "\n",
    "rgb = cv.cvtColor(cat,cv.COLOR_BGR2RGB)\n",
    "newI = cv.cvtColor(rgb,cv.COLOR_RGB2BGR)\n",
    "cv.imshow(\"New\",newI)\n",
    "cv.destroyAllWindows()\n",
    "# plt.imshow(rgb)\n",
    "# plt.imshow(newI)\n",
    "# plt.show()"
   ]
  },
  {
   "cell_type": "code",
   "execution_count": null,
   "metadata": {},
   "outputs": [],
   "source": []
  }
 ],
 "metadata": {
  "kernelspec": {
   "display_name": "Python 3",
   "language": "python",
   "name": "python3"
  },
  "language_info": {
   "codemirror_mode": {
    "name": "ipython",
    "version": 3
   },
   "file_extension": ".py",
   "mimetype": "text/x-python",
   "name": "python",
   "nbconvert_exporter": "python",
   "pygments_lexer": "ipython3",
   "version": "3.6.9"
  }
 },
 "nbformat": 4,
 "nbformat_minor": 4
}
