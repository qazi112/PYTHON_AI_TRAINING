{
 "cells": [
  {
   "cell_type": "code",
   "execution_count": 1,
   "metadata": {},
   "outputs": [
    {
     "data": {
      "text/plain": [
       "255"
      ]
     },
     "execution_count": 1,
     "metadata": {},
     "output_type": "execute_result"
    }
   ],
   "source": [
    "import cv2 as cv\n",
    "import numpy as np\n",
    "import matplotlib.pyplot as plt\n",
    "img = cv.imread(\"photos/face.webp\")\n",
    "cat = cv.imread(\"photos/cat.jpeg\")\n",
    "cat_gray = cv.cvtColor(cat,cv.COLOR_BGR2GRAY)\n",
    "blank = np.zeros(cat.shape,dtype = \"uint8\")\n",
    "\n",
    "# cv.imshow(\"Cat Orignal\",cat)\n",
    "cv.imshow(\"Cat\",cat_gray)\n",
    "\n",
    "blur = cv.GaussianBlur(cat,(5,5),cv.BORDER_DEFAULT)\n",
    "cv.imshow(\"Blurred\",blur)\n",
    "# Canny -> edges of image\n",
    "canny = cv.Canny(blur,125,175)\n",
    "cv.imshow(\"Edges\",canny)\n",
    "\n",
    "# find threshold image\n",
    "ret , thres = cv.threshold(cat_gray,120,255,type= cv.THRESH_BINARY )\n",
    "\n",
    "cv.imshow(\"Thresh\",thres)\n",
    "\n",
    "\n",
    "\n",
    "cv.waitKey(0)"
   ]
  },
  {
   "cell_type": "code",
   "execution_count": 2,
   "metadata": {},
   "outputs": [],
   "source": [
    "# Find Contours\n",
    "_,contours,hierarchies =cv.findContours(canny,cv.RETR_LIST,cv.CHAIN_APPROX_NONE)\n",
    "# draw contours\n",
    "cv.drawContours(blank,contours,-1,(0,0,255),1)\n",
    "cv.imshow(\"Drawn Cont\",blank)\n",
    "cv.waitKey(0)\n",
    "cv.destroyAllWindows()"
   ]
  },
  {
   "cell_type": "code",
   "execution_count": 3,
   "metadata": {},
   "outputs": [],
   "source": [
    "\n",
    "rgb = cv.cvtColor(cat,cv.COLOR_BGR2RGB)\n",
    "newI = cv.cvtColor(rgb,cv.COLOR_RGB2BGR)\n",
    "cv.imshow(\"New\",newI)\n",
    "cv.destroyAllWindows()\n",
    "# plt.imshow(rgb)\n",
    "# plt.imshow(newI)\n",
    "# plt.show()"
   ]
  },
  {
   "cell_type": "code",
   "execution_count": 4,
   "metadata": {},
   "outputs": [],
   "source": [
    "# Thresholding ------------ (openCV)\n",
    "\n",
    "ret, thresh1 =  cv.threshold(cat_gray,127,255,cv.THRESH_BINARY)\n",
    "ret, thresh2 =  cv.threshold(cat_gray,127,255,cv.THRESH_BINARY_INV)\n",
    "ret, thresh3 =  cv.threshold(cat_gray,127,255,cv.THRESH_MASK)\n",
    "ret, thresh4 =  cv.threshold(cat_gray,127,255,cv.THRESH_TOZERO)\n",
    "ret, thresh5 =  cv.threshold(cat_gray,127,255,cv.THRESH_TOZERO_INV)\n",
    "\n",
    "th2 = cv.adaptiveThreshold(cat_gray,255,cv.ADAPTIVE_THRESH_MEAN_C,cv.THRESH_BINARY,11,2)\n",
    "canny1 = cv.Canny(cat_gray,127,255)\n",
    "cv.imshow(\"Canny from grey scale\",canny1)\n",
    "_, contours, hei = cv.findContours(th2,cv.RETR_LIST,cv.CHAIN_APPROX_NONE)\n",
    "blank1 = np.zeros(cat.shape,dtype = \"uint8\")\n",
    "\n",
    "cv.drawContours(blank1,contours,-1,(0,0,255),1)\n",
    "\n",
    "# cv.imshow(\"Bin\",thresh1)\n",
    "# cv.imshow(\"Bin inv\",thresh2)\n",
    "# cv.imshow(\"MAsk\",thresh3)\n",
    "# cv.imshow(\"tzer\",thresh4)\n",
    "cv.imshow(\"Adaptive Thresh MEAN\",th2)\n",
    "cv.imshow(\"Contours Drawn\",blank1)\n",
    "cv.waitKey(0)\n",
    "cv.destroyAllWindows()"
   ]
  },
  {
   "cell_type": "code",
   "execution_count": 5,
   "metadata": {},
   "outputs": [],
   "source": [
    "# Colour Channels\n",
    "# Take same image of cat\n",
    "b,g,r = cv.split(cat)\n",
    "cv.imshow(\"BLUE\",b)\n",
    "cv.imshow(\"Green\",g)\n",
    "cv.imshow(\"Red\",r)\n",
    "\n",
    "merged = cv.merge([b,g,r])\n",
    "cv.imshow(\"Merged\",merged)\n",
    "cv.waitKey(0)\n",
    "cv.destroyAllWindows()\n"
   ]
  },
  {
   "cell_type": "code",
   "execution_count": 14,
   "metadata": {},
   "outputs": [
    {
     "name": "stdout",
     "output_type": "stream",
     "text": [
      "[[[120 255 255]]]\n"
     ]
    }
   ],
   "source": [
    "blue = np.uint8([[[255,0,0 ]]]) #BGR \n",
    "hsv_blue = cv.cvtColor(blue,cv.COLOR_BGR2HSV)\n",
    "print(hsv_green)\n",
    "#  H S V\n",
    "# Lower [ H-10 , 100 , 100 ]\n",
    "# Upper [H+10 , 255, 255]"
   ]
  },
  {
   "cell_type": "code",
   "execution_count": null,
   "metadata": {},
   "outputs": [],
   "source": [
    "# Object Tracking in the video\n",
    "capture = cv.VideoCapture(0)\n",
    "# while True:\n",
    "#     # Detect Blue object [B G R]     \n",
    "#     isTrue, frame= capture.read()\n",
    "    \n",
    "# #     img = cv.cvtColor(frame,cv.COLOR_BGR2HSV)\n",
    "# #     lower_blue = np.array([110,100,100])\n",
    "# #     upper_blue = np.array([130,255,255])\n",
    "# #     mask = cv.inRange(img, lower_blue, upper_blue)\n",
    "# #     res = cv.bitwise_and(frame,frame, mask= mask)\n",
    "#     cv.imshow('frame',frame)\n",
    "# #     cv.imshow('mask',mask)\n",
    "# #     cv.imshow('res',res)\n",
    "#     k = cv.waitKey(5) & 0xFF\n",
    "#     if k == 27:\n",
    "#         break\n",
    "    \n",
    "\n",
    "cv.destroyAllWindows()"
   ]
  },
  {
   "cell_type": "code",
   "execution_count": 17,
   "metadata": {},
   "outputs": [
    {
     "data": {
      "text/plain": [
       "255"
      ]
     },
     "execution_count": 17,
     "metadata": {},
     "output_type": "execute_result"
    }
   ],
   "source": [
    "# Blurring\n",
    "img = cv.imread(\"photos/cat.jpeg\")\n",
    "gray = cv.cvtColor(img,cv.COLOR_BGR2GRAY)\n",
    "\n",
    "# Blur - averaging\n",
    "blur = cv.blur(img,(3,3))\n",
    "# Gauss \n",
    "gauss = cv.GaussianBlur(img,(3,3),0)\n",
    "canny_gauss = cv.Canny(gauss,125,175)\n",
    "# cv.imshow(\"Canny Gauss\",canny_gauss)\n",
    "# median bluring - used for reducing noice in the images\n",
    "\n",
    "median = cv.medianBlur(img,3)\n",
    "\n",
    "# Bilateral blurring  - used often - retains edges\n",
    "bilateral = cv.bilateralFilter(img,5,15,15)\n",
    "\n",
    "cv.imshow(\"Blured\",blur)\n",
    "cv.imshow(\"Cat\",img)\n",
    "cv.imshow(\"Gauss Blur\",gauss)\n",
    "cv.imshow(\"Median Blur\",median)\n",
    "cv.waitKey(0)"
   ]
  },
  {
   "cell_type": "code",
   "execution_count": 5,
   "metadata": {},
   "outputs": [
    {
     "data": {
      "text/plain": [
       "255"
      ]
     },
     "execution_count": 5,
     "metadata": {},
     "output_type": "execute_result"
    }
   ],
   "source": [
    "# Bitwise operations\n",
    "blank = np.zeros((400,400), dtype=\"uint8\")\n",
    "# cv.imshow(\"Blank\",blank)\n",
    "\n",
    "rectangle = cv.rectangle(blank.copy(),(30,30),(370,370),255,-1)\n",
    "circle = cv.circle(blank.copy(),(200,200),200,255,-1)\n",
    "and_bit = cv.bitwise_and(rectangle,circle)\n",
    "not_bit = cv.bitwise_not(rectangle)\n",
    "cv.imshow(\"Not\",not_bit)\n",
    "cv.imshow(\"Rectangle\",rectangle)\n",
    "cv.imshow(\"Circle\",circle)\n",
    "cv.imshow(\"And\",and_bit)\n",
    "\n",
    "cv.waitKey(0)"
   ]
  },
  {
   "cell_type": "code",
   "execution_count": 10,
   "metadata": {},
   "outputs": [
    {
     "data": {
      "text/plain": [
       "255"
      ]
     },
     "execution_count": 10,
     "metadata": {},
     "output_type": "execute_result"
    }
   ],
   "source": [
    "# Masking - using bitwise\n",
    "blank = np.zeros(cat.shape[:2],dtype=\"uint8\")\n",
    "\n",
    "mask = cv.circle(blank,(cat.shape[1]//2,cat.shape[0]//2), 150,255,-1)\n",
    "\n",
    "masked = cv.bitwise_and(cat,cat,mask=mask)\n",
    "cv.imshow(\"Masked\",masked)\n",
    "cv.waitKey(0)\n"
   ]
  },
  {
   "cell_type": "code",
   "execution_count": 18,
   "metadata": {},
   "outputs": [
    {
     "name": "stdout",
     "output_type": "stream",
     "text": [
      "(549, 976)\n",
      "(549, 976, 3)\n"
     ]
    },
    {
     "data": {
      "text/plain": [
       "255"
      ]
     },
     "execution_count": 18,
     "metadata": {},
     "output_type": "execute_result"
    }
   ],
   "source": [
    "blank = np.zeros(cat.shape[:2],dtype = \"uint8\")\n",
    "gray = cv.cvtColor(cat,cv.COLOR_BGR2GRAY)\n",
    "circle = cv.circle(blank.copy(),(cat.shape[1]//2 , cat.shape[0]//2),100,255,-1)\n",
    "print(circle.shape)\n",
    "mask = cv.bitwise_and(cat,cat,mask=circle)\n",
    "print(mask.shape)\n",
    "# cv.imshow(\"Masked\",mask)\n",
    "cv.waitKey(0)"
   ]
  },
  {
   "cell_type": "code",
   "execution_count": 35,
   "metadata": {},
   "outputs": [
    {
     "data": {
      "text/plain": [
       "233"
      ]
     },
     "execution_count": 35,
     "metadata": {},
     "output_type": "execute_result"
    }
   ],
   "source": [
    "mask = np.zeros(cat.shape[:2],dtype= \"uint8\")\n",
    "mask[100:400,100:500] = 255\n",
    "masked = cv.bitwise_and(cat,cat, mask=mask)\n",
    "\n",
    "# cv.imshow(\"Masked\",masked)\n",
    "\n",
    "cv.waitKey(0)"
   ]
  }
 ],
 "metadata": {
  "kernelspec": {
   "display_name": "Python 3",
   "language": "python",
   "name": "python3"
  },
  "language_info": {
   "codemirror_mode": {
    "name": "ipython",
    "version": 3
   },
   "file_extension": ".py",
   "mimetype": "text/x-python",
   "name": "python",
   "nbconvert_exporter": "python",
   "pygments_lexer": "ipython3",
   "version": "3.6.9"
  }
 },
 "nbformat": 4,
 "nbformat_minor": 4
}
