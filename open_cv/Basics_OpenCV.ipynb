{
 "cells": [
  {
   "cell_type": "code",
   "execution_count": 11,
   "metadata": {},
   "outputs": [],
   "source": [
    "import cv2 as cv\n",
    "import numpy as np\n",
    "img = cv.imread(\"photos/face.webp\")\n",
    "gray = cv.cvtColor(img,cv.COLOR_BGR2GRAY)\n",
    "# cv.imshow(\"Gray\",gray)\n",
    "# cv.imshow(\"Ori\",img)\n",
    "# cv.imshow(\"Ori\",img)\n",
    "blur = cv.GaussianBlur(img,(3,3),cv.BORDER_DEFAULT)\n",
    "# cv.imshow(\"Blurr\",blur)\n",
    "# cv.waitKey(0)"
   ]
  },
  {
   "cell_type": "code",
   "execution_count": 12,
   "metadata": {},
   "outputs": [
    {
     "data": {
      "text/plain": [
       "255"
      ]
     },
     "execution_count": 12,
     "metadata": {},
     "output_type": "execute_result"
    }
   ],
   "source": [
    "# Edges\n",
    "cann = cv.Canny(blur,150,170)\n",
    "cv.imshow(\"canny\",cann)\n",
    "cv.waitKey(0)\n"
   ]
  },
  {
   "cell_type": "code",
   "execution_count": 13,
   "metadata": {},
   "outputs": [],
   "source": [
    "dilated = cv.dilate(cann,(7,7),iterations = 3)\n",
    "erroded = cv.erode(dilated,(7,7),iterations = 3)\n",
    "cv.imshow(\"Dilated\",dilated)\n",
    "cv.imshow(\"Erroded\",erroded)\n",
    "cv.waitKey(0)\n",
    "cv.destroyAllWindows()"
   ]
  },
  {
   "cell_type": "code",
   "execution_count": 3,
   "metadata": {},
   "outputs": [],
   "source": [
    "# Transformations\n",
    "# img imported above\n",
    "def translate(img,x,y):\n",
    "    transMat = np.float32([[1,0,x],[0,1,y]])\n",
    "    dimensions = (img.shape[1],img.shape[0])\n",
    "    return cv.warpAffine(img,transMat,dimensions)\n",
    "# +x -> Right\n",
    "# -x Left\n",
    "# +y UP\n",
    "# -y DOWN\n",
    "translated = translate(img,100,100)\n",
    "# cv.imshow(\"Tras\",translated)\n",
    "# cv.waitKey(0)\n",
    "resized_small = cv.resize(img,(400,400),interpolation = cv.INTER_AREA)\n",
    "resized_large = cv.resize(img,(600,700),interpolation = cv.INTER_CUBIC)\n",
    "cv.imshow(\"SMALL\",resized_small)\n",
    "cv.imshow(\"Large\",resized_large)\n",
    "cv.waitKey(0)\n",
    "cv.destroyAllWindows()"
   ]
  }
 ],
 "metadata": {
  "kernelspec": {
   "display_name": "Python 3",
   "language": "python",
   "name": "python3"
  },
  "language_info": {
   "codemirror_mode": {
    "name": "ipython",
    "version": 3
   },
   "file_extension": ".py",
   "mimetype": "text/x-python",
   "name": "python",
   "nbconvert_exporter": "python",
   "pygments_lexer": "ipython3",
   "version": "3.6.9"
  }
 },
 "nbformat": 4,
 "nbformat_minor": 4
}
